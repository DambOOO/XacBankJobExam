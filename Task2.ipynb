{
 "cells": [
  {
   "cell_type": "markdown",
   "metadata": {},
   "source": [
    "a. What is the price of a kilo of beef in China now (in CNY)? Please indicate your\n",
    "source. 0.5 points."
   ]
  },
  {
   "cell_type": "code",
   "execution_count": 1,
   "metadata": {},
   "outputs": [
    {
     "name": "stdout",
     "output_type": "stream",
     "text": [
      "2a price of a kilo of beef in China now (in CNY): 76.37 ¥\n"
     ]
    }
   ],
   "source": [
    "print(\"2a price of a kilo of beef in China now (in CNY):\" ,76.37, \"¥\")"
   ]
  },
  {
   "cell_type": "markdown",
   "metadata": {},
   "source": [
    "https://www.numbeo.com/cost-of-living/country_price_rankings?itemId=121&displayCurrency=CNY"
   ]
  },
  {
   "cell_type": "markdown",
   "metadata": {},
   "source": [
    "b. What is the price of a kilo of beef in Mongolia now (in MNT)? Please indicate your\n",
    "source. 0.5 points."
   ]
  },
  {
   "cell_type": "code",
   "execution_count": 6,
   "metadata": {},
   "outputs": [
    {
     "name": "stdout",
     "output_type": "stream",
     "text": [
      "2b price of a kilo of beef in Mongolia now (in MNT): 12 755 ₮\n"
     ]
    },
    {
     "data": {
      "text/plain": [
       "12862.2"
      ]
     },
     "execution_count": 6,
     "metadata": {},
     "output_type": "execute_result"
    }
   ],
   "source": [
    "print(\"2b price of a kilo of beef in Mongolia now (in MNT):\" ,12,755, \"₮\") #http://www.ubstat.mn/   in Mongolia\n",
    "(1/0.15)*1929.33 # https://www.numbeo.com/food-prices/in/Ulaanbaatar"
   ]
  },
  {
   "cell_type": "markdown",
   "metadata": {},
   "source": [
    "http://www.ubstat.mn/ https://www.numbeo.com/food-prices/in/Ulaanbaatar"
   ]
  },
  {
   "cell_type": "code",
   "execution_count": 4,
   "metadata": {},
   "outputs": [
    {
     "name": "stdout",
     "output_type": "stream",
     "text": [
      "it must be much cheaper to buy in Mongolia, right?\n",
      "yes : 4.464492345\n",
      "11.16292653\n",
      "4.464492345\n"
     ]
    }
   ],
   "source": [
    "print(\"it must be much cheaper to buy in Mongolia, right?\")\n",
    "\n",
    "MNT = 0.000350019 #USDMNT\n",
    "CNY = 0.146169 #USDCNY\n",
    "CNY_beef = 76.37*CNY\n",
    "MNT_beef = 12755*MNT\n",
    "if CNY_beef>MNT_beef:\n",
    "    print(\"yes :\", MNT_beef)\n",
    "else:\n",
    "    print(\"no :\" , MNT_beef)        \n",
    "print(CNY_beef)\n",
    "print(MNT_beef)"
   ]
  },
  {
   "cell_type": "markdown",
   "metadata": {},
   "source": [
    "c. So, the market is not in equilibrium and the Chinese will start buying from\n",
    "Mongolia. If we assume the prices in either China and Mongolia is fixed, then the\n",
    "only variable, let's be very simple, which can change to restore the equilibrium is the\n",
    "exchange rate. What should be the MNT per CNY exchange rate (CNYMNT) so that\n",
    "beef costs the same in both countries? How many percent does it mean that the MNT\n",
    "should appreciate against CNY (MNT should appreciate since beef is too cheap in\n",
    "Mongolia)? Please write down your calculation details. 1 point."
   ]
  },
  {
   "cell_type": "code",
   "execution_count": 5,
   "metadata": {},
   "outputs": [
    {
     "data": {
      "text/plain": [
       "149.64411452054796"
      ]
     },
     "execution_count": 5,
     "metadata": {},
     "output_type": "execute_result"
    }
   ],
   "source": [
    "CNYMNT = 417.599\n",
    "#76.37*x = 1/x = 12755\n",
    "x = 12775/76.37 #market equilibrium price\n",
    "inv_x=1/x\n",
    "delta = (inv_x - 1/CNYMNT)/(1/CNYMNT)\n",
    "delta*100 "
   ]
  },
  {
   "cell_type": "raw",
   "metadata": {},
   "source": [
    "d. What was the average annual CPI inflation rate in China between 2010 and 2019?\n",
    "Please indicate your source. 1 point.\n",
    "e. What was the average annual CPI inflation rate in Mongolia between 2010 and\n",
    "2019? Please indicate your source. 1 point."
   ]
  },
  {
   "cell_type": "code",
   "execution_count": 7,
   "metadata": {},
   "outputs": [
    {
     "name": "stdout",
     "output_type": "stream",
     "text": [
      "2d  average annual CPI inflation rate in China between 2010 and 2019 :   2.465043784897032\n",
      "2e  average annual CPI inflation rate in Mongolia between 2010 and 2019 :   6.526449827120198\n"
     ]
    }
   ],
   "source": [
    "import pandas as pd\n",
    "from scipy.stats.mstats import gmean\n",
    "data = {\n",
    "    'date' :['2010','2011','2012','2013','2014','2015','2016','2017','2018','2019'],\n",
    "    'inflation_china' : [4.57,4.03,2.53,2.51,1.41,1.62,1.99,1.85,1.91,4.41],\n",
    "    'inflation_mongolia' : [13,8.9,14,12.5,10.4,1.9,1.3,6.4,8.1,5.2]\n",
    "}\n",
    "inf = pd.DataFrame(data, columns = ['date', 'inflation_china','inflation_mongolia'])\n",
    "#geometr mean\n",
    "print(\"2d  average annual CPI inflation rate in China between 2010 and 2019 :  \",inf['inflation_china'].product()**(1/len(inf['inflation_china'])))\n",
    "print(\"2e  average annual CPI inflation rate in Mongolia between 2010 and 2019 :  \",inf['inflation_mongolia'].product()**(1/len(inf['inflation_mongolia'])))"
   ]
  },
  {
   "cell_type": "markdown",
   "metadata": {},
   "source": [
    "https://tradingeconomics.com/china/inflation-cpi https://knoema.com/atlas/China/Inflation-rate https://1212.mn/tables.aspxtbl_id=DT_NSO_0600_013V1&RATIO_select_all=0&RATIOSingleSelect=_1&YearY_select_all=0&YearYSingleSelect=_2019_2018_2017_2016_2015_2014_2013_2012_2011_2010&viewtype=table"
   ]
  },
  {
   "cell_type": "raw",
   "metadata": {},
   "source": [
    "f. What will be the price of beef in China in Sep 2025 (5 years from now) assuming that it will grow at 2010-19 average inflation rate of China? Please write down your\n",
    "calculation details. 0.5 points.\n",
    "g. What will be the price of beef in Mongolia in Sep 2025 (5 years from now) assuming that it will grow at 2010-19 average inflation rate of Mongolia? Please write\n",
    "down your calculation details. 0.5 points."
   ]
  },
  {
   "cell_type": "code",
   "execution_count": 8,
   "metadata": {},
   "outputs": [
    {
     "name": "stdout",
     "output_type": "stream",
     "text": [
      "2f  price of beef in China in Sep 2025 :   12.608305296685577 $\n",
      "2g  price of beef in Mongolia in Sep 2025  :   6.124340816779249 $\n"
     ]
    }
   ],
   "source": [
    "CNY_beef = 76.37*CNY\n",
    "MNT_beef = 12755*MNT\n",
    "FV_beef_CHN = CNY_beef*(1+0.01*inf['inflation_china'].product()**(1/len(inf['inflation_china'])))**5\n",
    "FV_beef_MGL = MNT_beef*(1+0.01*inf['inflation_mongolia'].product()**(1/len(inf['inflation_mongolia'])))**5\n",
    "print(\"2f  price of beef in China in Sep 2025 :  \",FV_beef_CHN,\"$\")\n",
    "print(\"2g  price of beef in Mongolia in Sep 2025  :  \",FV_beef_MGL,\"$\")"
   ]
  },
  {
   "cell_type": "markdown",
   "metadata": {},
   "source": [
    "h. Where is it in 2025 cheaper to buy beef? Please write down your calculation details.\n",
    "1 points."
   ]
  },
  {
   "cell_type": "code",
   "execution_count": 9,
   "metadata": {},
   "outputs": [
    {
     "name": "stdout",
     "output_type": "stream",
     "text": [
      "2h  Where is it in 2025 cheaper to buy beef?\n",
      "in MGL\n"
     ]
    }
   ],
   "source": [
    "print(\"2h  Where is it in 2025 cheaper to buy beef?\")\n",
    "if FV_beef_CHN>FV_beef_MGL:\n",
    "    print(\"in MGL\")\n",
    "else:\n",
    "    print(\"in CHN\")"
   ]
  },
  {
   "cell_type": "raw",
   "metadata": {},
   "source": [
    "i. Assuming the same thing as in \"c\" happens, what should be the CNYMNT rate?\n",
    "Please write down your calculation details. 0.5 points.\n",
    "j. If inflation in Mongolia was twice higher than what you got in \"e\", what will be\n",
    "your answer to \"i\"? Please write down your calculation details. 0.5 points."
   ]
  },
  {
   "cell_type": "code",
   "execution_count": 10,
   "metadata": {},
   "outputs": [
    {
     "name": "stdout",
     "output_type": "stream",
     "text": [
      "2i   :   202.84592654496117 CNYMNT\n",
      "2j   :   273.0782898561388 CNYMNT\n"
     ]
    }
   ],
   "source": [
    "CNY_beef = 76.37\n",
    "MNT_beef = 12755\n",
    "FV_beef_CHN = CNY_beef*(1+0.01*inf['inflation_china'].product()**(1/len(inf['inflation_china'])))**5\n",
    "FV_beef_MGL = MNT_beef*(1+0.01*inf['inflation_mongolia'].product()**(1/len(inf['inflation_mongolia'])))**5\n",
    "print(\"2i   :  \", FV_beef_MGL/FV_beef_CHN ,\"CNYMNT\")\n",
    "print(\"2j   :  \",(MNT_beef*(1+6.52644*0.02)**5)/FV_beef_CHN,\"CNYMNT\")"
   ]
  }
 ],
 "metadata": {
  "kernelspec": {
   "display_name": "Python 3",
   "language": "python",
   "name": "python3"
  },
  "language_info": {
   "codemirror_mode": {
    "name": "ipython",
    "version": 3
   },
   "file_extension": ".py",
   "mimetype": "text/x-python",
   "name": "python",
   "nbconvert_exporter": "python",
   "pygments_lexer": "ipython3",
   "version": "3.7.4"
  }
 },
 "nbformat": 4,
 "nbformat_minor": 4
}
