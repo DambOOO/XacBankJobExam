{
 "cells": [
  {
   "cell_type": "raw",
   "metadata": {},
   "source": [
    "3.1. [Bank accounting][2 points]: Let us assume that you have just opened a deposit\n",
    "account of one year tenor at XacBank and transfered 1 million MNT into it from your\n",
    "current account at Xacbank. Please see the interest rate on XacBank's website.\n",
    "a. What will be the journal entries on your book on the first day for the transaction?\n",
    "0.5 point.\n",
    "b. What will be the journal entries on Xacbank's book for the transaction? 0.25 point.\n",
    "c. What will be the journal entries when the first interest is accrued in one month (on\n",
    "Xacbank's book)? 0.25 points.\n",
    "d. What will be the journal entries when the sixth interest is accrued in six months\n",
    "(note that Xacbank does compounding, on Xacbank's book)? 0.5 points.\n",
    "e. What will be the journal entries when the deposit expires in one year and you\n",
    "receive the outstanding amount to your current account at XacBank (on Xacbank's\n",
    "book)? 0.5 point."
   ]
  },
  {
   "cell_type": "code",
   "execution_count": 1,
   "metadata": {},
   "outputs": [
    {
     "name": "stdout",
     "output_type": "stream",
     "text": [
      "Monthly expense : 945833.3333333333\n",
      "Six Month expense : 5675000.0\n",
      "One year expense : 11350000.0\n",
      "3.1a :  {'debt': 1000000, 'credit': 1000000}\n",
      "3.1b :  {'debt': 1000000, 'credit': 1000000}\n",
      "3.1c :  {'debt': 945833.3333333333, 'credit': 945833.3333333333}\n",
      "3.1d :  {'debt': 5675000.0, 'credit': 5675000.0}\n",
      "3.1e :  {'debt': 11350000.0, 'credit': 11350000.0}\n"
     ]
    }
   ],
   "source": [
    "interest = 11.35\n",
    "tenor = 12 # month\n",
    "period= interest/tenor\n",
    "deposit = 1000000\n",
    "Monthly_expense = deposit*period\n",
    "print(\"Monthly expense :\" , Monthly_expense)\n",
    "Six_Month_expense = Monthly_expense*6\n",
    "print(\"Six Month expense :\" , Six_Month_expense)\n",
    "Year_expense = Monthly_expense*12\n",
    "print(\"One year expense :\" , Year_expense)\n",
    "\n",
    "def Xacbankbook(parametr):\n",
    "    bankbook = {\n",
    "    \"debt\" : parametr,\n",
    "    \"credit\" : parametr\n",
    "    }\n",
    "    return bankbook\n",
    "def Currentaccount(parametr):\n",
    "    Mybook ={\n",
    "    \"debt\": parametr,\n",
    "    \"credit\": parametr\n",
    "    }\n",
    "    return Mybook\n",
    "print(\"3.1a : \",Currentaccount(deposit))\n",
    "print(\"3.1b : \",Xacbankbook(deposit))\n",
    "print(\"3.1c : \",Xacbankbook(Monthly_expense))\n",
    "print(\"3.1d : \",Xacbankbook(Six_Month_expense))\n",
    "print(\"3.1e : \",Xacbankbook(Year_expense))\n"
   ]
  },
  {
   "cell_type": "raw",
   "metadata": {},
   "source": [
    "3.2. [Bond pricing][2 points]: Find the ask yield-to-maturity of a bond with the\n",
    "following characteristics:\n",
    "- Par value: $100\n",
    "- Coupon rate: 5% per annum\n",
    "- Coupon frequency: Semi-annual\n",
    "- Bid/ask price: $96.5/97.5\n",
    "- Remaining maturity: 5 years\n",
    "Please write down your calculation details."
   ]
  },
  {
   "cell_type": "code",
   "execution_count": 2,
   "metadata": {},
   "outputs": [],
   "source": [
    "import scipy.optimize as optimize\n",
    "import math\n",
    "def bond_ytm(price, par, T, coup, freq=2, guess=0.05):\n",
    "    #freq = Coupon frequency: Semi-annual\n",
    "    #T = Remaining maturity: 5 years\n",
    "    #par = Par value:  $100\n",
    "    #price = Bid ask price:  $96.5/97.5\n",
    "    #coupon = coupon rate : 5%\n",
    "    freq = float(freq)\n",
    "    periods = T*freq\n",
    "    coupon = coup/100.*par/freq\n",
    "    dt = [(i+1)/freq for i in range(int(periods))]\n",
    "    t = []\n",
    "    ytm_func = lambda y : sum([coupon/(1+y/freq)**(freq*t) for t in dt]) + par/(1+y/freq)**(freq*T) - price\n",
    "    return optimize.newton(ytm_func, guess)"
   ]
  },
  {
   "cell_type": "code",
   "execution_count": 3,
   "metadata": {},
   "outputs": [
    {
     "name": "stdout",
     "output_type": "stream",
     "text": [
      "ask yield to maturity 5.579886243037476\n",
      "bid yield to maturity 5.816781629644293\n"
     ]
    }
   ],
   "source": [
    "ytm = bond_ytm(price =97.5, par = 100, T=5, coup = 5, freq = 2)\n",
    "print(\"ask yield to maturity\", bond_ytm(price =97.5, par = 100, T=5, coup = 5, freq = 2)*100)\n",
    "print(\"bid yield to maturity\", bond_ytm(price =96.5, par = 100, T=5, coup = 5, freq = 2)*100)\n"
   ]
  },
  {
   "cell_type": "markdown",
   "metadata": {},
   "source": [
    "Calculating the price of bond"
   ]
  },
  {
   "cell_type": "code",
   "execution_count": 5,
   "metadata": {},
   "outputs": [],
   "source": [
    "def bond_price(par, T, ytm, coup, freq=2):\n",
    "    freq = float(freq)\n",
    "    periods = T*freq\n",
    "    coupon = coup/100.*par/freq\n",
    "    dt = [(i+1)/freq for i in range(int(periods))]\n",
    "    price = sum([coupon/(1+ytm/freq)**(freq*t) for t in dt]) + par/(1+ytm/freq)**(freq*T)\n",
    "    return price"
   ]
  },
  {
   "cell_type": "code",
   "execution_count": 6,
   "metadata": {},
   "outputs": [
    {
     "data": {
      "text/plain": [
       "97.50000000000033"
      ]
     },
     "execution_count": 6,
     "metadata": {},
     "output_type": "execute_result"
    }
   ],
   "source": [
    "ytm = bond_ytm(price =97.5, par = 100, T=5, coup = 5, freq = 2)\n",
    "bond_price(100, 5,ytm, 5, 2)"
   ]
  },
  {
   "cell_type": "code",
   "execution_count": 7,
   "metadata": {},
   "outputs": [
    {
     "data": {
      "text/plain": [
       "96.5000000000056"
      ]
     },
     "execution_count": 7,
     "metadata": {},
     "output_type": "execute_result"
    }
   ],
   "source": [
    "ytm = bond_ytm(price =96.5, par = 100, T=5, coup = 5, freq = 2)\n",
    "bond_price(100,5,ytm,5,2)"
   ]
  },
  {
   "cell_type": "raw",
   "metadata": {},
   "source": [
    "3.3. [Short sell][2 points]: ABC stock is selling $10 per share. You believe that it is\n",
    "overvalued and will soon drop to $9 per share. Why not short it?, you thought.\n",
    "Therefore, you decided to try your luck by shorting 5000 shares. Let's see what can\n",
    "happen.\n",
    "Parameters: Initial margin is 50%. Maintenance margin requirement is 30%. Broker's\n",
    "fee is 0.5% of the transaction value due in each trade (for sales and purchases of\n",
    "stocks). Call loan rate that your broker charges for the fund she lent you is 1.25% per\n",
    "annum.\n",
    "a. How much are you required to put as an initial margin deposit? Please write down\n",
    "your calculation details. 0.25 points.\n",
    "b. Starting at what price, you will get a margin call? 0.25 points.\n",
    "c. If price increased to $13 per share, how much will you be asked to deposit to reach\n",
    "maintenance margin requirement? 0.5 points.\n",
    "d. If you closed the deal when price was $9 per share after 6 months as you expected,\n",
    "what will be your annualized rate of return (assume nothing happened in between to\n",
    "incur additional cost)? 0.5 points.\n",
    "e. If you closed the deal when price was $11 per share after 6 months, what will be\n",
    "your annualized rate of return (assume nothing happened in between to incur\n",
    "additional cost)? 0.5 points.\n"
   ]
  },
  {
   "cell_type": "code",
   "execution_count": 8,
   "metadata": {},
   "outputs": [],
   "source": [
    "#Shares: 5000\n",
    "#per share: 10$\n",
    "#initial Margin: 50%\n",
    "#Maintenance Margin: 30%\n",
    "#Brokers fee: 0.5% of the transaction value due in each trade\n",
    "#Call loan rate: Per annum 1.25\n",
    "Shares = 5000\n",
    "Price =10\n",
    "Initial_Margin =0.5\n",
    "Mainten = 0.3\n",
    "fee = 0.005\n",
    "annum = 0.0125 / 2 # 6 mounts\n",
    "def Initial(Shares,Price,Initial_Margin):\n",
    "    print(\"initial margin deposit requirements\")\n",
    "    Initial = Shares*Price*Initial_Margin\n",
    "    return Initial\n",
    "    \n",
    "def Maintenance(Shares,Price,Initial_Margin):\n",
    "    print(\"Maintenance Margin requirements\")\n",
    "    Maintenance_Market_value = Mainten* Shares*Price\n",
    "    return Maintenance_Market_value\n",
    "\n",
    "def Broker_fee(Shares,Price,Initial_Margin,fee):\n",
    "    print(\"Broker's fee of the transaction value due in each trade \")\n",
    "    fee = Shares*Price*Initial_Margin*fee\n",
    "    return float(fee)\n",
    "\n",
    "def Total_Margin(Shares,Price,Initial):\n",
    "    Total_Margin = Shares*Price+Shares*Price*Initial_Margin\n",
    "    print(\"Total Margin requirements\")\n",
    "    print(Total_Margin)\n",
    "    return(Total_Margin)  "
   ]
  },
  {
   "cell_type": "code",
   "execution_count": 9,
   "metadata": {},
   "outputs": [
    {
     "name": "stdout",
     "output_type": "stream",
     "text": [
      "Task 3.3a\n",
      "initial margin deposit requirements\n"
     ]
    },
    {
     "data": {
      "text/plain": [
       "25000.0"
      ]
     },
     "execution_count": 9,
     "metadata": {},
     "output_type": "execute_result"
    }
   ],
   "source": [
    "print(\"Task 3.3a\")\n",
    "Initial(Shares,Price,Initial_Margin)"
   ]
  },
  {
   "cell_type": "code",
   "execution_count": 10,
   "metadata": {},
   "outputs": [
    {
     "name": "stdout",
     "output_type": "stream",
     "text": [
      "Total Margin requirements\n",
      "75000.0\n",
      "Maintenance Margin requirements\n"
     ]
    },
    {
     "data": {
      "text/plain": [
       "15000.0"
      ]
     },
     "execution_count": 10,
     "metadata": {},
     "output_type": "execute_result"
    }
   ],
   "source": [
    "Total_Margin(Shares,Price,Initial_Margin)\n",
    "Maintenance(Shares,Price,Initial_Margin)"
   ]
  },
  {
   "cell_type": "code",
   "execution_count": 11,
   "metadata": {},
   "outputs": [
    {
     "name": "stdout",
     "output_type": "stream",
     "text": [
      "Task 3.3b\n",
      "initial margin deposit requirements\n",
      "     Margin call price :  35714.28571428572\n",
      "initial margin deposit requirements\n",
      "     Stock price of per share : 7.142857142857143\n"
     ]
    }
   ],
   "source": [
    "print(\"Task 3.3b\")\n",
    "print(\"     Margin call price : \", Initial(Shares,Price,Initial_Margin)/(1-Mainten))\n",
    "print( \"     Stock price of per share :\", Initial(Shares,Price,Initial_Margin)/(1-Mainten)/5000)"
   ]
  },
  {
   "cell_type": "code",
   "execution_count": 12,
   "metadata": {},
   "outputs": [
    {
     "name": "stdout",
     "output_type": "stream",
     "text": [
      "Task 3.3c\n",
      "Maintenance Margin requirements\n",
      "Price = 13 : 19500.0\n"
     ]
    }
   ],
   "source": [
    "print(\"Task 3.3c\")\n",
    "Price = 13\n",
    "print(\"Price = 13 :\" , Maintenance(Shares,Price,Initial_Margin))"
   ]
  },
  {
   "cell_type": "code",
   "execution_count": null,
   "metadata": {},
   "outputs": [],
   "source": []
  }
 ],
 "metadata": {
  "kernelspec": {
   "display_name": "Python 3",
   "language": "python",
   "name": "python3"
  },
  "language_info": {
   "codemirror_mode": {
    "name": "ipython",
    "version": 3
   },
   "file_extension": ".py",
   "mimetype": "text/x-python",
   "name": "python",
   "nbconvert_exporter": "python",
   "pygments_lexer": "ipython3",
   "version": "3.7.4"
  }
 },
 "nbformat": 4,
 "nbformat_minor": 4
}
